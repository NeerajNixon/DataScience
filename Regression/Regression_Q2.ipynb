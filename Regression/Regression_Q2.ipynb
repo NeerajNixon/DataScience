{
  "nbformat": 4,
  "nbformat_minor": 0,
  "metadata": {
    "colab": {
      "name": "20D070056_Q2.ipynb",
      "provenance": []
    },
    "kernelspec": {
      "name": "python3",
      "display_name": "Python 3"
    },
    "language_info": {
      "name": "python"
    }
  },
  "cells": [
    {
      "cell_type": "code",
      "metadata": {
        "id": "zi3Q-euuOJd0"
      },
      "source": [
        ""
      ],
      "execution_count": null,
      "outputs": []
    },
    {
      "cell_type": "code",
      "metadata": {
        "colab": {
          "base_uri": "https://localhost:8080/"
        },
        "id": "Vc4ndnSUOM_Y",
        "outputId": "caacf436-9672-4825-9fe9-e10eb79e24a6"
      },
      "source": [
        "from google.colab import drive\n",
        "drive.mount('/content/drive')"
      ],
      "execution_count": 1,
      "outputs": [
        {
          "output_type": "stream",
          "name": "stdout",
          "text": [
            "Mounted at /content/drive\n"
          ]
        }
      ]
    },
    {
      "cell_type": "code",
      "metadata": {
        "id": "OY2p2iXrOVQ_"
      },
      "source": [
        "import numpy as np\n",
        "import pandas as pd\n",
        "import matplotlib.pyplot as plt\n",
        "import seaborn as sns\n",
        "\n",
        "from sklearn.model_selection import train_test_split\n",
        "from sklearn.linear_model import Lasso\n",
        "from sklearn import preprocessing"
      ],
      "execution_count": 2,
      "outputs": []
    },
    {
      "cell_type": "markdown",
      "metadata": {
        "id": "IoyNsdrzO8oU"
      },
      "source": [
        "# READING DATA"
      ]
    },
    {
      "cell_type": "code",
      "metadata": {
        "colab": {
          "base_uri": "https://localhost:8080/",
          "height": 417
        },
        "id": "truQmArFO-tC",
        "outputId": "b14aa6e4-25b8-4dca-8da7-f3727adcc16c"
      },
      "source": [
        "data=pd.read_excel('/content/drive/MyDrive/Colab Notebooks/data/haberman.xlsx')\n",
        "display(data)"
      ],
      "execution_count": 4,
      "outputs": [
        {
          "output_type": "display_data",
          "data": {
            "text/html": [
              "<div>\n",
              "<style scoped>\n",
              "    .dataframe tbody tr th:only-of-type {\n",
              "        vertical-align: middle;\n",
              "    }\n",
              "\n",
              "    .dataframe tbody tr th {\n",
              "        vertical-align: top;\n",
              "    }\n",
              "\n",
              "    .dataframe thead th {\n",
              "        text-align: right;\n",
              "    }\n",
              "</style>\n",
              "<table border=\"1\" class=\"dataframe\">\n",
              "  <thead>\n",
              "    <tr style=\"text-align: right;\">\n",
              "      <th></th>\n",
              "      <th>X1</th>\n",
              "      <th>X2</th>\n",
              "      <th>X3</th>\n",
              "      <th>Y</th>\n",
              "    </tr>\n",
              "  </thead>\n",
              "  <tbody>\n",
              "    <tr>\n",
              "      <th>0</th>\n",
              "      <td>30</td>\n",
              "      <td>64</td>\n",
              "      <td>1</td>\n",
              "      <td>1</td>\n",
              "    </tr>\n",
              "    <tr>\n",
              "      <th>1</th>\n",
              "      <td>30</td>\n",
              "      <td>62</td>\n",
              "      <td>3</td>\n",
              "      <td>1</td>\n",
              "    </tr>\n",
              "    <tr>\n",
              "      <th>2</th>\n",
              "      <td>30</td>\n",
              "      <td>65</td>\n",
              "      <td>0</td>\n",
              "      <td>1</td>\n",
              "    </tr>\n",
              "    <tr>\n",
              "      <th>3</th>\n",
              "      <td>31</td>\n",
              "      <td>59</td>\n",
              "      <td>2</td>\n",
              "      <td>1</td>\n",
              "    </tr>\n",
              "    <tr>\n",
              "      <th>4</th>\n",
              "      <td>31</td>\n",
              "      <td>65</td>\n",
              "      <td>4</td>\n",
              "      <td>1</td>\n",
              "    </tr>\n",
              "    <tr>\n",
              "      <th>...</th>\n",
              "      <td>...</td>\n",
              "      <td>...</td>\n",
              "      <td>...</td>\n",
              "      <td>...</td>\n",
              "    </tr>\n",
              "    <tr>\n",
              "      <th>301</th>\n",
              "      <td>75</td>\n",
              "      <td>62</td>\n",
              "      <td>1</td>\n",
              "      <td>1</td>\n",
              "    </tr>\n",
              "    <tr>\n",
              "      <th>302</th>\n",
              "      <td>76</td>\n",
              "      <td>67</td>\n",
              "      <td>0</td>\n",
              "      <td>1</td>\n",
              "    </tr>\n",
              "    <tr>\n",
              "      <th>303</th>\n",
              "      <td>77</td>\n",
              "      <td>65</td>\n",
              "      <td>3</td>\n",
              "      <td>1</td>\n",
              "    </tr>\n",
              "    <tr>\n",
              "      <th>304</th>\n",
              "      <td>78</td>\n",
              "      <td>65</td>\n",
              "      <td>1</td>\n",
              "      <td>2</td>\n",
              "    </tr>\n",
              "    <tr>\n",
              "      <th>305</th>\n",
              "      <td>83</td>\n",
              "      <td>58</td>\n",
              "      <td>2</td>\n",
              "      <td>2</td>\n",
              "    </tr>\n",
              "  </tbody>\n",
              "</table>\n",
              "<p>306 rows × 4 columns</p>\n",
              "</div>"
            ],
            "text/plain": [
              "     X1  X2  X3  Y\n",
              "0    30  64   1  1\n",
              "1    30  62   3  1\n",
              "2    30  65   0  1\n",
              "3    31  59   2  1\n",
              "4    31  65   4  1\n",
              "..   ..  ..  .. ..\n",
              "301  75  62   1  1\n",
              "302  76  67   0  1\n",
              "303  77  65   3  1\n",
              "304  78  65   1  2\n",
              "305  83  58   2  2\n",
              "\n",
              "[306 rows x 4 columns]"
            ]
          },
          "metadata": {}
        }
      ]
    },
    {
      "cell_type": "markdown",
      "metadata": {
        "id": "yjJjEQK1Poik"
      },
      "source": [
        "# CHECKING FOR MISSING VALUES"
      ]
    },
    {
      "cell_type": "code",
      "metadata": {
        "colab": {
          "base_uri": "https://localhost:8080/"
        },
        "id": "Kz6Hp7uqPrE1",
        "outputId": "8ff2fc5b-6b8c-4916-8d35-68123ee2b2ad"
      },
      "source": [
        "for col in data.columns.values:\n",
        "    \n",
        "    # Getting list of unique values in each column\n",
        "    unique_list = pd.unique(data[col])\n",
        "\n",
        "    print(\"Datatype of {} is: \".format(col), data[col].dtype)\n",
        "    print(\"Number of unique values for {} are: \".format(col), len(unique_list))\n",
        "\n",
        "    # Converting a column to a boolean array checking for null values\n",
        "    is_null = pd.isnull(data[col])\n",
        "\n",
        "    # Calculating total null values\n",
        "    total_null = np.sum(is_null)\n",
        "\n",
        "    print(\"Number of missing entries for {} are: \".format(col), total_null)\n",
        "    print(\"Number of non-missing entries for {} are: \".format(col), data[col].shape[0] - total_null)\n",
        "\n",
        "    print(\"---------------\")"
      ],
      "execution_count": 5,
      "outputs": [
        {
          "output_type": "stream",
          "name": "stdout",
          "text": [
            "Datatype of X1 is:  int64\n",
            "Number of unique values for X1 are:  49\n",
            "Number of missing entries for X1 are:  0\n",
            "Number of non-missing entries for X1 are:  306\n",
            "---------------\n",
            "Datatype of X2 is:  int64\n",
            "Number of unique values for X2 are:  12\n",
            "Number of missing entries for X2 are:  0\n",
            "Number of non-missing entries for X2 are:  306\n",
            "---------------\n",
            "Datatype of X3 is:  int64\n",
            "Number of unique values for X3 are:  31\n",
            "Number of missing entries for X3 are:  0\n",
            "Number of non-missing entries for X3 are:  306\n",
            "---------------\n",
            "Datatype of Y is:  int64\n",
            "Number of unique values for Y are:  2\n",
            "Number of missing entries for Y are:  0\n",
            "Number of non-missing entries for Y are:  306\n",
            "---------------\n"
          ]
        }
      ]
    },
    {
      "cell_type": "markdown",
      "metadata": {
        "id": "PS3g15I4QER0"
      },
      "source": [
        "# CORRELATION MATRIX"
      ]
    },
    {
      "cell_type": "code",
      "metadata": {
        "colab": {
          "base_uri": "https://localhost:8080/",
          "height": 450
        },
        "id": "vYMrtGJKQHVs",
        "outputId": "b5545147-11bf-4965-ca3f-60930e65ebeb"
      },
      "source": [
        "plt.figure(figsize = (15, 7))\n",
        "\n",
        "# Calculating correlation between all columns\n",
        "var_corr = data.corr()\n",
        "\n",
        "# Plotting correlation heatmap\n",
        "sns.heatmap(var_corr, xticklabels = var_corr.columns, yticklabels = var_corr.columns, annot = True, vmin=-1, vmax=1, center= 0)"
      ],
      "execution_count": 6,
      "outputs": [
        {
          "output_type": "execute_result",
          "data": {
            "text/plain": [
              "<matplotlib.axes._subplots.AxesSubplot at 0x7f1107439f50>"
            ]
          },
          "metadata": {},
          "execution_count": 6
        },
        {
          "output_type": "display_data",
          "data": {
            "image/png": "[encoded data removed]",
            "text/plain": [
              "<Figure size 1080x504 with 2 Axes>"
            ]
          },
          "metadata": {
            "needs_background": "light"
          }
        }
      ]
    },
    {
      "cell_type": "markdown",
      "metadata": {
        "id": "PJUEoenJQRyQ"
      },
      "source": [
        "# PRE-PROCESSING"
      ]
    },
    {
      "cell_type": "code",
      "metadata": {
        "colab": {
          "base_uri": "https://localhost:8080/",
          "height": 417
        },
        "id": "XjxLDbvBQUwr",
        "outputId": "d22ba405-e8b0-478e-ae88-572138326d3c"
      },
      "source": [
        "# Extracting the label column\n",
        "Y = data['Y']\n",
        "\n",
        "# Dropping the label column from the main dataset\n",
        "data = data.drop('Y', axis = 1)\n",
        "display(data)"
      ],
      "execution_count": 8,
      "outputs": [
        {
          "output_type": "display_data",
          "data": {
            "text/html": [
              "<div>\n",
              "<style scoped>\n",
              "    .dataframe tbody tr th:only-of-type {\n",
              "        vertical-align: middle;\n",
              "    }\n",
              "\n",
              "    .dataframe tbody tr th {\n",
              "        vertical-align: top;\n",
              "    }\n",
              "\n",
              "    .dataframe thead th {\n",
              "        text-align: right;\n",
              "    }\n",
              "</style>\n",
              "<table border=\"1\" class=\"dataframe\">\n",
              "  <thead>\n",
              "    <tr style=\"text-align: right;\">\n",
              "      <th></th>\n",
              "      <th>X1</th>\n",
              "      <th>X2</th>\n",
              "      <th>X3</th>\n",
              "    </tr>\n",
              "  </thead>\n",
              "  <tbody>\n",
              "    <tr>\n",
              "      <th>0</th>\n",
              "      <td>30</td>\n",
              "      <td>64</td>\n",
              "      <td>1</td>\n",
              "    </tr>\n",
              "    <tr>\n",
              "      <th>1</th>\n",
              "      <td>30</td>\n",
              "      <td>62</td>\n",
              "      <td>3</td>\n",
              "    </tr>\n",
              "    <tr>\n",
              "      <th>2</th>\n",
              "      <td>30</td>\n",
              "      <td>65</td>\n",
              "      <td>0</td>\n",
              "    </tr>\n",
              "    <tr>\n",
              "      <th>3</th>\n",
              "      <td>31</td>\n",
              "      <td>59</td>\n",
              "      <td>2</td>\n",
              "    </tr>\n",
              "    <tr>\n",
              "      <th>4</th>\n",
              "      <td>31</td>\n",
              "      <td>65</td>\n",
              "      <td>4</td>\n",
              "    </tr>\n",
              "    <tr>\n",
              "      <th>...</th>\n",
              "      <td>...</td>\n",
              "      <td>...</td>\n",
              "      <td>...</td>\n",
              "    </tr>\n",
              "    <tr>\n",
              "      <th>301</th>\n",
              "      <td>75</td>\n",
              "      <td>62</td>\n",
              "      <td>1</td>\n",
              "    </tr>\n",
              "    <tr>\n",
              "      <th>302</th>\n",
              "      <td>76</td>\n",
              "      <td>67</td>\n",
              "      <td>0</td>\n",
              "    </tr>\n",
              "    <tr>\n",
              "      <th>303</th>\n",
              "      <td>77</td>\n",
              "      <td>65</td>\n",
              "      <td>3</td>\n",
              "    </tr>\n",
              "    <tr>\n",
              "      <th>304</th>\n",
              "      <td>78</td>\n",
              "      <td>65</td>\n",
              "      <td>1</td>\n",
              "    </tr>\n",
              "    <tr>\n",
              "      <th>305</th>\n",
              "      <td>83</td>\n",
              "      <td>58</td>\n",
              "      <td>2</td>\n",
              "    </tr>\n",
              "  </tbody>\n",
              "</table>\n",
              "<p>306 rows × 3 columns</p>\n",
              "</div>"
            ],
            "text/plain": [
              "     X1  X2  X3\n",
              "0    30  64   1\n",
              "1    30  62   3\n",
              "2    30  65   0\n",
              "3    31  59   2\n",
              "4    31  65   4\n",
              "..   ..  ..  ..\n",
              "301  75  62   1\n",
              "302  76  67   0\n",
              "303  77  65   3\n",
              "304  78  65   1\n",
              "305  83  58   2\n",
              "\n",
              "[306 rows x 3 columns]"
            ]
          },
          "metadata": {}
        }
      ]
    },
    {
      "cell_type": "code",
      "metadata": {
        "colab": {
          "base_uri": "https://localhost:8080/"
        },
        "id": "bGrwHr5xQhnh",
        "outputId": "d1d9c720-2f56-4707-e8d3-a9902233d0b3"
      },
      "source": [
        "# Converting the data into numpy arrays\n",
        "X = np.array(data)\n",
        "Y = np.array(Y)\n",
        "\n",
        "print(X.shape)\n",
        "print(Y.shape)"
      ],
      "execution_count": 10,
      "outputs": [
        {
          "output_type": "stream",
          "name": "stdout",
          "text": [
            "(306, 3)\n",
            "(306,)\n"
          ]
        }
      ]
    },
    {
      "cell_type": "markdown",
      "metadata": {
        "id": "10DGT-SqQpi_"
      },
      "source": [
        "# TRAIN -TEST SPLIT FUNCTION"
      ]
    },
    {
      "cell_type": "code",
      "metadata": {
        "id": "SF6qNfAnQvNB"
      },
      "source": [
        "# Splitting the data into train and test sets\n",
        "def data_split(test_split = 0.2):\n",
        "    \n",
        "    X_train, X_test, Y_train, Y_test = train_test_split(X, Y, test_size = test_split, shuffle = True)\n",
        "    return X_train, X_test, Y_train, Y_test"
      ],
      "execution_count": 11,
      "outputs": []
    },
    {
      "cell_type": "markdown",
      "metadata": {
        "id": "cP0Yaf24Qx5U"
      },
      "source": [
        "# LOGISTIC REGRESSION FUNCTION"
      ]
    },
    {
      "cell_type": "code",
      "metadata": {
        "id": "4pByyoh9Q5Fv"
      },
      "source": [
        "from sklearn.linear_model import LogisticRegression\n",
        "\n",
        "'''\n",
        "A function to carry out logistic regression\n",
        "\n",
        "Here, C is a parameter which specifies the inverse of the regularization strength, in a sense\n",
        "So, smaller values of C lead to stronger regularization\n",
        "'''\n",
        "\n",
        "def logistic_regression(X, Y, reg_inverse = 1.0, penalty = 'l2'):\n",
        "\n",
        "    clf = LogisticRegression(penalty = penalty, C = reg_inverse).fit(X, Y)\n",
        "    return clf"
      ],
      "execution_count": 12,
      "outputs": []
    },
    {
      "cell_type": "markdown",
      "metadata": {
        "id": "OXXoDQ3kQ7Bw"
      },
      "source": [
        "# CLASSIFICATION ERROR FUNCTION"
      ]
    },
    {
      "cell_type": "code",
      "metadata": {
        "id": "zBVes-DDRAuw"
      },
      "source": [
        "def classification_error(Y_pred, Y_actual):\n",
        "\n",
        "    # Total test values\n",
        "    total_entries = len(Y_pred)\n",
        "    \n",
        "    # Number of values wrongly predicted by the model\n",
        "    wrong_values = 0\n",
        "    \n",
        "    for i in range(total_entries):\n",
        "\n",
        "        if Y_pred[i] != Y_actual[i]:\n",
        "            wrong_values += 1\n",
        "\n",
        "    error = float(wrong_values)/float(total_entries)\n",
        "    return error"
      ],
      "execution_count": 13,
      "outputs": []
    },
    {
      "cell_type": "markdown",
      "metadata": {
        "id": "ROy5riexRC8s"
      },
      "source": [
        "# LOGISTIC REGRESSION WITH VARYING TRAIN-TEST SPLIT AND REGULARISATION STRENGTH"
      ]
    },
    {
      "cell_type": "code",
      "metadata": {
        "colab": {
          "base_uri": "https://localhost:8080/"
        },
        "id": "vDkAsVgPRSuV",
        "outputId": "e2cc4338-bafb-4ce7-eedb-c86de6267bc8"
      },
      "source": [
        "# Possible train-test splits\n",
        "test_splits = [0.1, 0.2, 0.3, 0.4]\n",
        "\n",
        "# Possible values of the inverse of the regularization strength\n",
        "reg_inverse_values = [0.01, 0.03, 0.1, 0.3, 1, 3, 10, 30]\n",
        "\n",
        "for test_split in test_splits:\n",
        "\n",
        "    for reg_inverse_value in reg_inverse_values:\n",
        "\n",
        "        print(f\"Test Split Value: {test_split}\")\n",
        "        print(f\"Regularization Strength: {1/reg_inverse_value}\")\n",
        "        \n",
        "        X_train, X_test, Y_train, Y_test = data_split(test_split = test_split)\n",
        "        \n",
        "        # Normalizing the different features in the data\n",
        "        X_train = preprocessing.scale(X_train)\n",
        "        X_test = preprocessing.scale(X_test)\n",
        "        \n",
        "        # Fitting the data to the logistic regression model\n",
        "        clf = logistic_regression(X_train, Y_train)\n",
        "        \n",
        "        # Extract the coefficients of the trained logistic model\n",
        "        coef = clf.coef_\n",
        "\n",
        "        # Extract the intercept of the trained logistic model\n",
        "        intercept = clf.intercept_\n",
        "\n",
        "        print(f\"Coefficients of the trained logistic model are: {coef}\")\n",
        "        print(f\"Intercept of the trained logistic model is: {intercept}\")\n",
        "\n",
        "        # Carrying out predictions on the test data\n",
        "        Y_pred = clf.predict(X_test)\n",
        "        print(f\"The predicted survival status of the patients in the test dataset sre: {Y_pred}\")\n",
        "\n",
        "        # Computing the error in the predicted values\n",
        "        error = classification_error(Y_pred, Y_test)\n",
        "        print(f\"The classification error in the test data prediction is: {error} \\n\")\n",
        "\n",
        "        print(\"----------\\n\")"
      ],
      "execution_count": 14,
      "outputs": [
        {
          "output_type": "stream",
          "name": "stdout",
          "text": [
            "Test Split Value: 0.1\n",
            "Regularization Strength: 100.0\n",
            "Coefficients of the trained logistic model are: [[ 0.22521022 -0.01550829  0.72872251]]\n",
            "Intercept of the trained logistic model is: [-1.06186171]\n",
            "The predicted survival status of the patients in the test dataset sre: [1 1 1 2 2 1 1 1 2 1 1 1 1 1 1 1 2 1 1 1 1 1 1 1 1 1 1 1 1 1 1]\n",
            "The classification error in the test data prediction is: 0.22580645161290322 \n",
            "\n",
            "----------\n",
            "\n",
            "Test Split Value: 0.1\n",
            "Regularization Strength: 33.333333333333336\n",
            "Coefficients of the trained logistic model are: [[0.22904658 0.00733051 0.55583078]]\n",
            "Intercept of the trained logistic model is: [-1.02724263]\n",
            "The predicted survival status of the patients in the test dataset sre: [1 1 1 1 2 1 1 1 1 1 1 1 1 1 1 1 1 1 1 1 1 1 1 1 1 1 1 2 1 2 1]\n",
            "The classification error in the test data prediction is: 0.16129032258064516 \n",
            "\n",
            "----------\n",
            "\n",
            "Test Split Value: 0.1\n",
            "Regularization Strength: 10.0\n",
            "Coefficients of the trained logistic model are: [[ 0.19615663 -0.03470716  0.64269005]]\n",
            "Intercept of the trained logistic model is: [-1.05348256]\n",
            "The predicted survival status of the patients in the test dataset sre: [1 1 1 1 1 1 1 1 2 1 1 1 1 1 1 1 1 1 1 1 1 2 1 1 2 2 1 1 1 1 1]\n",
            "The classification error in the test data prediction is: 0.22580645161290322 \n",
            "\n",
            "----------\n",
            "\n",
            "Test Split Value: 0.1\n",
            "Regularization Strength: 3.3333333333333335\n",
            "Coefficients of the trained logistic model are: [[ 0.20069763 -0.05595321  0.63421182]]\n",
            "Intercept of the trained logistic model is: [-1.05218726]\n",
            "The predicted survival status of the patients in the test dataset sre: [1 1 1 1 1 1 2 1 1 1 2 1 1 1 1 1 1 1 1 1 1 1 2 1 1 1 1 1 1 1 1]\n",
            "The classification error in the test data prediction is: 0.1935483870967742 \n",
            "\n",
            "----------\n",
            "\n",
            "Test Split Value: 0.1\n",
            "Regularization Strength: 1.0\n",
            "Coefficients of the trained logistic model are: [[0.19882752 0.01127152 0.67013393]]\n",
            "Intercept of the trained logistic model is: [-1.09377177]\n",
            "The predicted survival status of the patients in the test dataset sre: [1 1 2 1 1 1 1 1 2 1 1 1 1 1 1 1 1 1 1 1 1 1 1 1 1 1 1 1 1 1 1]\n",
            "The classification error in the test data prediction is: 0.3548387096774194 \n",
            "\n",
            "----------\n",
            "\n",
            "Test Split Value: 0.1\n",
            "Regularization Strength: 0.3333333333333333\n",
            "Coefficients of the trained logistic model are: [[ 0.16343815 -0.04163216  0.62897553]]\n",
            "Intercept of the trained logistic model is: [-1.08471718]\n",
            "The predicted survival status of the patients in the test dataset sre: [1 1 1 1 1 1 1 1 1 2 1 1 1 2 1 1 1 1 1 1 1 1 1 1 1 1 1 1 1 1 2]\n",
            "The classification error in the test data prediction is: 0.25806451612903225 \n",
            "\n",
            "----------\n",
            "\n",
            "Test Split Value: 0.1\n",
            "Regularization Strength: 0.1\n",
            "Coefficients of the trained logistic model are: [[ 0.19105828 -0.07823269  0.62544125]]\n",
            "Intercept of the trained logistic model is: [-0.99135691]\n",
            "The predicted survival status of the patients in the test dataset sre: [1 1 1 1 1 1 1 1 2 2 1 1 1 1 1 1 1 1 1 1 1 1 1 1 1 1 1 1 1 1 1]\n",
            "The classification error in the test data prediction is: 0.12903225806451613 \n",
            "\n",
            "----------\n",
            "\n",
            "Test Split Value: 0.1\n",
            "Regularization Strength: 0.03333333333333333\n",
            "Coefficients of the trained logistic model are: [[ 0.18798915 -0.10016513  0.63027506]]\n",
            "Intercept of the trained logistic model is: [-1.03026652]\n",
            "The predicted survival status of the patients in the test dataset sre: [1 1 1 1 1 2 1 1 1 1 1 2 1 1 1 2 1 1 1 1 1 1 1 1 1 1 1 1 1 1 1]\n",
            "The classification error in the test data prediction is: 0.16129032258064516 \n",
            "\n",
            "----------\n",
            "\n",
            "Test Split Value: 0.2\n",
            "Regularization Strength: 100.0\n",
            "Coefficients of the trained logistic model are: [[ 0.28580807 -0.34583653  0.61533691]]\n",
            "Intercept of the trained logistic model is: [-1.21307801]\n",
            "The predicted survival status of the patients in the test dataset sre: [1 1 1 1 2 1 1 1 2 1 2 1 1 1 1 1 1 2 1 1 1 1 1 1 1 1 1 1 1 1 1 1 2 1 1 1 1\n",
            " 1 1 1 1 1 1 1 1 1 1 1 1 1 1 1 1 1 1 1 2 1 1 1 1 1]\n",
            "The classification error in the test data prediction is: 0.3064516129032258 \n",
            "\n",
            "----------\n",
            "\n",
            "Test Split Value: 0.2\n",
            "Regularization Strength: 33.333333333333336\n",
            "Coefficients of the trained logistic model are: [[0.22071019 0.05400436 0.55469283]]\n",
            "Intercept of the trained logistic model is: [-1.0392172]\n",
            "The predicted survival status of the patients in the test dataset sre: [1 1 1 1 1 1 1 1 1 1 1 1 1 2 1 1 1 1 1 2 1 1 1 1 1 1 1 1 1 1 1 1 1 1 1 2 1\n",
            " 1 1 1 1 1 1 2 1 1 1 1 1 1 1 1 1 1 1 1 1 1 1 1 1 1]\n",
            "The classification error in the test data prediction is: 0.20967741935483872 \n",
            "\n",
            "----------\n",
            "\n",
            "Test Split Value: 0.2\n",
            "Regularization Strength: 10.0\n",
            "Coefficients of the trained logistic model are: [[ 0.379534   -0.09615686  0.70684484]]\n",
            "Intercept of the trained logistic model is: [-1.07277694]\n",
            "The predicted survival status of the patients in the test dataset sre: [1 1 1 1 2 1 1 1 1 1 1 1 1 1 1 1 1 1 1 1 1 1 1 1 1 1 1 1 1 1 1 1 1 2 1 1 1\n",
            " 1 1 1 2 1 1 1 1 1 2 1 1 1 2 1 1 1 1 1 1 2 1 1 1 1]\n",
            "The classification error in the test data prediction is: 0.24193548387096775 \n",
            "\n",
            "----------\n",
            "\n",
            "Test Split Value: 0.2\n",
            "Regularization Strength: 3.3333333333333335\n",
            "Coefficients of the trained logistic model are: [[ 0.24791543 -0.06407422  0.65828738]]\n",
            "Intercept of the trained logistic model is: [-1.11814148]\n",
            "The predicted survival status of the patients in the test dataset sre: [1 1 1 1 1 1 1 1 1 1 1 1 1 1 1 1 1 1 1 1 1 1 1 1 1 1 1 1 2 1 1 1 1 1 1 2 1\n",
            " 1 2 2 1 1 1 1 1 1 1 1 1 1 2 1 1 2 1 1 1 1 1 1 1 1]\n",
            "The classification error in the test data prediction is: 0.2903225806451613 \n",
            "\n",
            "----------\n",
            "\n",
            "Test Split Value: 0.2\n",
            "Regularization Strength: 1.0\n",
            "Coefficients of the trained logistic model are: [[0.15937363 0.05910316 0.60806515]]\n",
            "Intercept of the trained logistic model is: [-1.06324972]\n",
            "The predicted survival status of the patients in the test dataset sre: [1 1 1 1 2 1 1 1 1 1 1 1 1 1 1 2 2 1 1 1 1 2 1 1 1 1 1 1 1 1 1 1 1 1 1 1 1\n",
            " 1 1 1 1 1 1 1 1 1 1 1 2 1 1 1 1 1 1 2 1 1 1 1 1 1]\n",
            "The classification error in the test data prediction is: 0.25806451612903225 \n",
            "\n",
            "----------\n",
            "\n",
            "Test Split Value: 0.2\n",
            "Regularization Strength: 0.3333333333333333\n",
            "Coefficients of the trained logistic model are: [[ 0.37783408 -0.00723987  0.6512051 ]]\n",
            "Intercept of the trained logistic model is: [-1.10774473]\n",
            "The predicted survival status of the patients in the test dataset sre: [1 2 1 1 1 1 1 1 1 1 2 2 1 1 1 1 1 2 1 1 2 1 1 1 1 1 1 1 1 1 1 1 1 1 1 1 1\n",
            " 1 1 1 1 1 1 1 1 1 1 2 1 1 2 1 1 1 1 1 1 1 1 1 1 1]\n",
            "The classification error in the test data prediction is: 0.25806451612903225 \n",
            "\n",
            "----------\n",
            "\n",
            "Test Split Value: 0.2\n",
            "Regularization Strength: 0.1\n",
            "Coefficients of the trained logistic model are: [[0.08930045 0.01417277 0.75918935]]\n",
            "Intercept of the trained logistic model is: [-1.01437207]\n",
            "The predicted survival status of the patients in the test dataset sre: [1 1 1 2 1 1 1 1 1 1 1 1 2 1 1 1 1 1 1 2 2 1 1 1 1 1 1 1 1 2 1 1 1 1 1 1 1\n",
            " 1 2 1 1 1 2 1 1 1 1 2 1 1 1 1 1 1 1 1 1 1 1 1 1 1]\n",
            "The classification error in the test data prediction is: 0.25806451612903225 \n",
            "\n",
            "----------\n",
            "\n",
            "Test Split Value: 0.2\n",
            "Regularization Strength: 0.03333333333333333\n",
            "Coefficients of the trained logistic model are: [[ 0.28562663 -0.02552743  0.66638402]]\n",
            "Intercept of the trained logistic model is: [-1.10415906]\n",
            "The predicted survival status of the patients in the test dataset sre: [1 1 1 1 1 1 1 1 2 1 1 1 1 1 1 1 1 1 1 1 1 1 1 1 1 1 2 1 1 1 1 1 1 1 1 1 1\n",
            " 1 1 1 1 1 1 1 1 1 1 1 1 1 1 1 1 1 2 1 1 1 1 1 1 1]\n",
            "The classification error in the test data prediction is: 0.25806451612903225 \n",
            "\n",
            "----------\n",
            "\n",
            "Test Split Value: 0.3\n",
            "Regularization Strength: 100.0\n",
            "Coefficients of the trained logistic model are: [[ 0.20891341 -0.01257548  0.59636872]]\n",
            "Intercept of the trained logistic model is: [-1.09588169]\n",
            "The predicted survival status of the patients in the test dataset sre: [1 1 1 1 1 1 1 1 1 1 1 1 2 1 1 1 2 1 1 1 1 1 1 1 1 2 1 1 1 1 1 1 2 1 1 1 1\n",
            " 1 1 1 1 1 1 1 1 1 2 1 1 1 1 1 1 1 1 1 1 1 1 1 1 1 1 1 1 1 1 1 1 1 1 1 1 1\n",
            " 1 1 1 1 1 1 1 1 1 1 1 1 1 1 1 1 1 2]\n",
            "The classification error in the test data prediction is: 0.25 \n",
            "\n",
            "----------\n",
            "\n",
            "Test Split Value: 0.3\n",
            "Regularization Strength: 33.333333333333336\n",
            "Coefficients of the trained logistic model are: [[ 0.2800726  -0.04353785  0.53017755]]\n",
            "Intercept of the trained logistic model is: [-1.22470896]\n",
            "The predicted survival status of the patients in the test dataset sre: [1 1 1 1 1 1 1 2 1 1 1 1 1 1 1 1 1 1 1 1 1 1 1 1 1 1 1 1 1 1 1 1 1 1 1 1 1\n",
            " 1 1 1 1 2 1 1 1 1 1 1 1 1 1 1 1 1 2 1 1 1 1 1 1 1 1 2 1 1 1 1 1 1 1 1 1 1\n",
            " 1 1 2 1 1 1 1 1 1 1 1 1 1 1 1 1 1 1]\n",
            "The classification error in the test data prediction is: 0.29347826086956524 \n",
            "\n",
            "----------\n",
            "\n",
            "Test Split Value: 0.3\n",
            "Regularization Strength: 10.0\n",
            "Coefficients of the trained logistic model are: [[0.31288791 0.05651965 0.8530738 ]]\n",
            "Intercept of the trained logistic model is: [-0.95874965]\n",
            "The predicted survival status of the patients in the test dataset sre: [1 1 1 2 1 1 2 1 1 1 1 1 1 1 1 1 2 1 1 1 2 1 1 1 2 1 1 2 1 1 1 1 1 1 1 1 1\n",
            " 1 1 1 1 1 1 1 1 1 1 1 1 1 1 1 1 1 1 1 1 1 1 1 1 1 1 1 1 1 1 1 1 1 1 1 1 1\n",
            " 1 1 1 1 2 1 1 1 1 1 1 1 1 1 1 1 1 1]\n",
            "The classification error in the test data prediction is: 0.2391304347826087 \n",
            "\n",
            "----------\n",
            "\n",
            "Test Split Value: 0.3\n",
            "Regularization Strength: 3.3333333333333335\n",
            "Coefficients of the trained logistic model are: [[ 0.08166321 -0.12449873  0.55512115]]\n",
            "Intercept of the trained logistic model is: [-0.92821608]\n",
            "The predicted survival status of the patients in the test dataset sre: [1 1 1 1 1 1 2 1 1 2 1 1 1 1 1 1 1 1 1 1 1 1 1 1 2 1 1 2 1 1 1 1 2 1 1 1 1\n",
            " 1 1 1 1 1 1 1 1 1 1 1 1 2 1 1 1 1 1 1 1 1 1 1 1 1 1 1 1 1 1 1 1 1 1 1 1 1\n",
            " 1 1 1 1 1 1 1 1 1 2 1 1 1 1 1 1 1 1]\n",
            "The classification error in the test data prediction is: 0.17391304347826086 \n",
            "\n",
            "----------\n",
            "\n",
            "Test Split Value: 0.3\n",
            "Regularization Strength: 1.0\n",
            "Coefficients of the trained logistic model are: [[ 0.11045892 -0.0421862   0.70748877]]\n",
            "Intercept of the trained logistic model is: [-0.88539596]\n",
            "The predicted survival status of the patients in the test dataset sre: [1 1 1 1 1 1 1 1 1 2 1 1 1 1 1 2 1 1 1 1 1 2 1 1 1 1 1 1 1 1 1 1 1 1 1 1 1\n",
            " 1 1 1 1 1 1 1 1 1 1 1 1 1 1 1 1 1 1 1 2 2 1 1 1 1 2 1 2 1 2 1 1 1 1 1 1 1\n",
            " 1 1 1 1 1 1 1 1 1 1 1 2 1 2 1 1 1 1]\n",
            "The classification error in the test data prediction is: 0.25 \n",
            "\n",
            "----------\n",
            "\n",
            "Test Split Value: 0.3\n",
            "Regularization Strength: 0.3333333333333333\n",
            "Coefficients of the trained logistic model are: [[0.07868868 0.00237527 0.55013038]]\n",
            "Intercept of the trained logistic model is: [-0.9765378]\n",
            "The predicted survival status of the patients in the test dataset sre: [1 1 1 1 1 1 1 1 1 1 1 1 1 1 1 1 1 1 1 1 1 1 1 1 1 1 2 1 1 1 1 1 1 1 1 2 1\n",
            " 1 1 1 1 1 1 1 1 1 1 1 1 1 1 1 1 1 1 1 1 1 2 1 1 1 1 1 1 1 1 1 2 1 1 1 1 2\n",
            " 1 1 1 1 1 1 1 1 1 1 1 2 1 1 1 2 1 1]\n",
            "The classification error in the test data prediction is: 0.21739130434782608 \n",
            "\n",
            "----------\n",
            "\n",
            "Test Split Value: 0.3\n",
            "Regularization Strength: 0.1\n",
            "Coefficients of the trained logistic model are: [[ 0.19835557 -0.07247235  0.75021571]]\n",
            "Intercept of the trained logistic model is: [-1.11636569]\n",
            "The predicted survival status of the patients in the test dataset sre: [1 1 1 1 1 1 1 1 1 1 1 1 1 1 1 1 1 1 1 1 1 1 1 1 1 1 1 1 1 2 1 2 1 1 1 1 2\n",
            " 1 1 1 1 1 1 1 1 1 1 1 1 1 1 1 1 1 1 1 1 2 1 1 1 1 2 1 1 1 1 1 2 1 1 1 1 1\n",
            " 1 1 1 2 2 1 2 1 2 1 1 1 1 1 1 1 1 2]\n",
            "The classification error in the test data prediction is: 0.29347826086956524 \n",
            "\n",
            "----------\n",
            "\n",
            "Test Split Value: 0.3\n",
            "Regularization Strength: 0.03333333333333333\n",
            "Coefficients of the trained logistic model are: [[ 0.16292814 -0.05663444  0.6134857 ]]\n",
            "Intercept of the trained logistic model is: [-1.16852793]\n",
            "The predicted survival status of the patients in the test dataset sre: [2 1 1 1 1 1 2 1 1 1 1 2 2 1 1 1 1 1 1 1 1 1 1 1 1 1 1 1 1 1 1 1 1 1 2 1 1\n",
            " 1 1 1 1 1 1 1 1 2 1 1 1 1 1 1 1 1 1 1 1 1 1 1 1 1 1 1 1 1 1 1 2 1 1 1 1 1\n",
            " 1 1 1 1 1 1 1 1 1 1 1 1 2 1 1 2 1 1]\n",
            "The classification error in the test data prediction is: 0.29347826086956524 \n",
            "\n",
            "----------\n",
            "\n",
            "Test Split Value: 0.4\n",
            "Regularization Strength: 100.0\n",
            "Coefficients of the trained logistic model are: [[0.20251186 0.11390475 0.57641567]]\n",
            "Intercept of the trained logistic model is: [-1.09232053]\n",
            "The predicted survival status of the patients in the test dataset sre: [2 1 1 1 1 1 1 1 1 1 1 1 1 1 1 1 1 1 1 2 1 1 1 1 2 1 1 1 1 1 1 1 1 1 1 1 2\n",
            " 1 1 1 1 1 1 1 1 1 2 1 1 1 1 1 1 1 1 1 1 1 1 1 1 1 1 1 1 1 1 1 1 1 1 1 1 1\n",
            " 1 1 1 1 1 1 1 1 1 1 1 1 1 1 1 1 1 1 1 1 1 1 1 1 1 2 1 1 1 1 1 1 1 2 1 1 2\n",
            " 1 1 1 1 1 1 1 1 1 1 1 1]\n",
            "The classification error in the test data prediction is: 0.21951219512195122 \n",
            "\n",
            "----------\n",
            "\n",
            "Test Split Value: 0.4\n",
            "Regularization Strength: 33.333333333333336\n",
            "Coefficients of the trained logistic model are: [[ 0.20210039 -0.05469714  0.68541396]]\n",
            "Intercept of the trained logistic model is: [-1.06465128]\n",
            "The predicted survival status of the patients in the test dataset sre: [1 1 1 1 1 1 1 2 1 1 1 1 1 1 1 1 1 2 1 1 1 1 1 1 1 1 1 1 1 1 1 1 1 1 1 1 1\n",
            " 1 1 1 1 1 1 1 1 1 1 1 1 1 1 1 1 1 1 1 1 1 1 1 1 1 1 1 1 1 1 1 1 1 2 1 1 1\n",
            " 1 1 2 1 1 1 1 1 2 2 1 1 1 1 1 1 1 1 1 2 1 1 1 1 1 1 1 1 1 1 1 2 1 1 1 1 1\n",
            " 1 1 1 1 1 1 2 1 1 1 1 1]\n",
            "The classification error in the test data prediction is: 0.25203252032520324 \n",
            "\n",
            "----------\n",
            "\n",
            "Test Split Value: 0.4\n",
            "Regularization Strength: 10.0\n",
            "Coefficients of the trained logistic model are: [[ 0.34289718 -0.31305776  1.08248891]]\n",
            "Intercept of the trained logistic model is: [-0.94430757]\n",
            "The predicted survival status of the patients in the test dataset sre: [1 1 1 1 1 1 1 1 1 1 1 2 1 1 2 1 1 1 1 1 1 1 1 1 1 1 1 1 1 1 1 1 2 1 1 1 1\n",
            " 1 1 1 1 1 1 1 1 1 1 1 1 1 1 1 1 1 2 1 1 1 2 1 1 2 1 1 1 1 2 2 1 1 1 1 1 1\n",
            " 2 1 1 1 1 1 1 1 1 1 1 1 1 1 1 1 2 1 2 2 2 1 1 1 2 1 1 1 1 1 1 1 1 1 1 1 1\n",
            " 1 1 1 1 1 1 1 2 1 1 1 1]\n",
            "The classification error in the test data prediction is: 0.2764227642276423 \n",
            "\n",
            "----------\n",
            "\n",
            "Test Split Value: 0.4\n",
            "Regularization Strength: 3.3333333333333335\n",
            "Coefficients of the trained logistic model are: [[0.01179713 0.01855124 0.70974614]]\n",
            "Intercept of the trained logistic model is: [-1.11673487]\n",
            "The predicted survival status of the patients in the test dataset sre: [1 1 1 1 1 1 1 1 1 2 1 1 1 2 1 1 1 1 1 1 1 1 1 1 1 1 1 1 1 1 1 1 1 1 1 1 1\n",
            " 1 1 1 1 1 1 1 2 2 1 1 1 1 1 1 1 1 1 1 1 2 1 1 1 1 1 2 1 1 1 1 1 1 1 1 1 1\n",
            " 1 1 1 1 1 1 1 1 1 1 2 1 1 1 1 1 1 1 2 1 2 1 1 1 2 1 1 1 1 1 1 2 1 1 1 1 1\n",
            " 1 1 1 1 1 1 1 1 1 1 1 1]\n",
            "The classification error in the test data prediction is: 0.2845528455284553 \n",
            "\n",
            "----------\n",
            "\n",
            "Test Split Value: 0.4\n",
            "Regularization Strength: 1.0\n",
            "Coefficients of the trained logistic model are: [[ 0.41438378 -0.05804643  0.76330659]]\n",
            "Intercept of the trained logistic model is: [-1.02533449]\n",
            "The predicted survival status of the patients in the test dataset sre: [2 2 1 1 1 2 1 1 1 1 1 1 1 1 1 1 1 1 1 1 1 1 1 1 1 1 1 1 1 1 1 1 1 1 1 1 1\n",
            " 1 1 1 1 1 1 1 1 1 1 1 2 1 2 1 1 1 1 1 1 1 2 1 1 1 1 1 1 2 1 1 1 1 1 1 1 1\n",
            " 2 1 2 1 1 1 2 1 1 1 1 1 1 1 1 1 1 1 1 1 1 1 1 1 1 1 1 1 1 1 1 1 1 2 1 1 2\n",
            " 1 1 1 1 1 1 1 2 1 1 1 1]\n",
            "The classification error in the test data prediction is: 0.25203252032520324 \n",
            "\n",
            "----------\n",
            "\n",
            "Test Split Value: 0.4\n",
            "Regularization Strength: 0.3333333333333333\n",
            "Coefficients of the trained logistic model are: [[ 0.29641481 -0.08391437  0.77566881]]\n",
            "Intercept of the trained logistic model is: [-0.95188105]\n",
            "The predicted survival status of the patients in the test dataset sre: [2 1 1 1 1 1 1 2 1 2 1 1 1 1 1 1 1 2 1 1 1 1 1 1 2 2 1 1 2 1 1 1 1 1 1 1 1\n",
            " 1 1 1 1 1 2 1 1 1 1 2 1 1 1 1 1 1 1 1 1 1 1 1 1 1 1 1 1 1 1 1 1 1 1 1 1 2\n",
            " 1 1 1 1 1 1 1 1 1 1 1 2 1 1 1 1 1 1 1 1 1 1 1 2 2 1 1 1 1 1 1 1 1 1 1 1 1\n",
            " 1 1 1 1 1 2 1 1 1 1 1 1]\n",
            "The classification error in the test data prediction is: 0.22764227642276422 \n",
            "\n",
            "----------\n",
            "\n",
            "Test Split Value: 0.4\n",
            "Regularization Strength: 0.1\n",
            "Coefficients of the trained logistic model are: [[0.32513846 0.07976434 0.43098394]]\n",
            "Intercept of the trained logistic model is: [-1.08773971]\n",
            "The predicted survival status of the patients in the test dataset sre: [1 1 1 1 1 1 1 1 1 1 1 1 1 1 1 1 1 1 1 1 1 1 1 1 1 1 1 1 1 2 1 2 1 1 1 1 1\n",
            " 1 1 1 1 1 1 1 1 1 1 1 1 1 1 2 1 1 2 1 1 1 1 1 1 1 1 1 1 1 1 1 1 1 1 1 1 1\n",
            " 1 1 1 1 1 1 1 1 1 1 1 1 1 1 1 1 2 1 1 1 1 1 1 1 1 1 1 1 1 1 1 1 1 1 1 1 1\n",
            " 1 2 1 1 2 1 1 1 1 1 1 1]\n",
            "The classification error in the test data prediction is: 0.24390243902439024 \n",
            "\n",
            "----------\n",
            "\n",
            "Test Split Value: 0.4\n",
            "Regularization Strength: 0.03333333333333333\n",
            "Coefficients of the trained logistic model are: [[0.37571763 0.00172233 0.47558035]]\n",
            "Intercept of the trained logistic model is: [-1.258371]\n",
            "The predicted survival status of the patients in the test dataset sre: [1 1 1 1 1 1 1 1 1 1 1 1 2 1 1 1 1 1 1 1 1 1 1 1 1 1 1 1 1 1 1 1 1 1 1 2 1\n",
            " 1 2 1 2 1 1 1 1 1 1 1 1 1 1 1 1 1 1 1 1 1 1 1 1 1 1 1 1 1 1 1 1 1 1 1 1 1\n",
            " 1 1 1 1 1 1 1 1 1 1 1 1 1 1 1 1 1 1 1 1 1 1 1 1 1 1 1 1 1 1 1 1 1 1 1 1 1\n",
            " 1 1 1 1 1 1 1 1 1 1 1 1]\n",
            "The classification error in the test data prediction is: 0.3089430894308943 \n",
            "\n",
            "----------\n",
            "\n"
          ]
        }
      ]
    }
  ]
}